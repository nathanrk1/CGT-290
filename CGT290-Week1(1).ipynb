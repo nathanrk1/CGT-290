{
 "cells": [
  {
   "cell_type": "markdown",
   "metadata": {},
   "source": [
    "# CGT 290 Week1\n",
    "## Python Tutorial\n",
    "\n",
    "### Jan 15, 2020\n",
    "Zongcheng Chu"
   ]
  },
  {
   "cell_type": "markdown",
   "metadata": {},
   "source": [
    "## 1. Basic syntax"
   ]
  },
  {
   "cell_type": "code",
   "execution_count": 19,
   "metadata": {},
   "outputs": [
    {
     "name": "stdout",
     "output_type": "stream",
     "text": [
      "The United States Declaration of Independence is thepronouncement adopted by the Second ContinentalCongress meeting at the Pennsylvania State House in Philadelphia, Pennsylvania, on July 4, 1776.\n",
      "The United States \n",
      " Declaration of Independence\n",
      "Purdue http://www.purdue.edu\n",
      "I use  Python\n"
     ]
    }
   ],
   "source": [
    "# comment the code\n",
    "#print('comment single line')\n",
    "\n",
    "# comment multiple lines\n",
    "# \"\"\" \"\"\"\n",
    "\n",
    "# \\ separate operator\n",
    "print('The United States Declaration of Independence is the\\\n",
    "pronouncement adopted by the Second Continental\\\n",
    "Congress meeting at the Pennsylvania State House in Philadelphia, \\\n",
    "Pennsylvania, on July 4, 1776.')\n",
    "\n",
    "#\\n start a new line\n",
    "print('The United States \\n Declaration of Independence')\n",
    "\n",
    "\n",
    "\n",
    "# ; allows multiple lines of code in a single line\n",
    "school_name='Purdue';website_url='http://www.purdue.edu';print(school_name,website_url)\n",
    "\n",
    "\n",
    "#：indent\n",
    "title='Python'\n",
    "\n",
    "if title=='Python':\n",
    "    print ('I use ',title)\n",
    "else:\n",
    "    print('I don\\'t use',title)"
   ]
  },
  {
   "cell_type": "markdown",
   "metadata": {},
   "source": [
    "## 2. Variables"
   ]
  },
  {
   "cell_type": "code",
   "execution_count": 9,
   "metadata": {},
   "outputs": [
    {
     "ename": "SyntaxError",
     "evalue": "invalid syntax (<ipython-input-9-0e4b6c98abd7>, line 3)",
     "output_type": "error",
     "traceback": [
      "\u001b[1;36m  File \u001b[1;32m\"<ipython-input-9-0e4b6c98abd7>\"\u001b[1;36m, line \u001b[1;32m3\u001b[0m\n\u001b[1;33m    &title='python'\u001b[0m\n\u001b[1;37m    ^\u001b[0m\n\u001b[1;31mSyntaxError\u001b[0m\u001b[1;31m:\u001b[0m invalid syntax\n"
     ]
    }
   ],
   "source": [
    "#1. A variable name must start with a letter or the underscore character\n",
    "#2 .A variable name cannot start with a number\n",
    "#3. A variable name can only contain alpha-numeric characters and underscores (A-z, 0-9, and _ )\n",
    "#4 .Variable names are case-sensitive (age, Age and AGE are three different variables)\n",
    "\n",
    "# Wrong\n",
    "1i='Purdue'\n",
    "&title='python'\n",
    "\n",
    "# Correct\n",
    "companyName='Purdue'\n",
    "companyWebsiteUrl='http://www.purdue.edu'"
   ]
  },
  {
   "cell_type": "markdown",
   "metadata": {},
   "source": [
    "## 3. Operators"
   ]
  },
  {
   "cell_type": "code",
   "execution_count": 23,
   "metadata": {},
   "outputs": [
    {
     "name": "stdout",
     "output_type": "stream",
     "text": [
      ">>>>> Arithmetic operator\n",
      "a+b= 150\n",
      "a-b= -50\n",
      "a×b= 5000\n",
      "a÷b= 0.5\n",
      "a%b= 50\n",
      "a//b= 0\n",
      "a**2= 2500\n",
      "a**0.5= 7.0710678118654755\n",
      ">>>>>>Comparison operator\n",
      "a==b: False\n",
      "a!=b: True\n",
      "a>b: False\n",
      "a<b: True\n",
      ">>>>>>Logical operator\n",
      "bbbbbb\n",
      "True\n",
      "False\n",
      "websiteUrl is websiteUrl2: True\n"
     ]
    }
   ],
   "source": [
    "# Arithmetic operator\n",
    "print('>>>>> Arithmetic operator')\n",
    "a=50;b=100\n",
    "\n",
    "print('a+b=',a+b)\n",
    "print('a-b=',a-b)\n",
    "print('a×b=',a*b)\n",
    "print('a÷b=',a/b)\n",
    "print('a%b=',a%b)\n",
    "print('a//b=',a//b)\n",
    "print('a**2=',a**2)\n",
    "print('a**0.5=',a**0.5)\n",
    "\n",
    "\n",
    "# a+=17\n",
    "# print('a=a+17',a)\n",
    "\n",
    "print('>>>>>>Comparison operator')\n",
    "print('a==b:',a==b)\n",
    "print('a!=b:',a!=b)\n",
    "print('a>b:',a>b)\n",
    "print('a<b:',a<b)\n",
    "\n",
    "\n",
    "print('>>>>>>Logical operator')\n",
    "if a>50 and b>60:\n",
    "    print('a and b both greater than 50')\n",
    "if a>=50 or b>200:\n",
    "    print('bbbbbb')\n",
    "    \n",
    "\n",
    "websiteUrl='http://www.purdue.edu'\n",
    "print('edu' in websiteUrl)\n",
    "print('edu' not in websiteUrl)\n",
    "\n",
    "\n",
    "websiteUrl='purdue'\n",
    "websiteUrl2='purdue'\n",
    "print('websiteUrl is websiteUrl2:',websiteUrl is websiteUrl2)"
   ]
  },
  {
   "cell_type": "markdown",
   "metadata": {},
   "source": [
    "## 4. Assign values"
   ]
  },
  {
   "cell_type": "code",
   "execution_count": 10,
   "metadata": {},
   "outputs": [
    {
     "name": "stdout",
     "output_type": "stream",
     "text": [
      "99 100 101\n"
     ]
    }
   ],
   "source": [
    "# most common\n",
    "a=100\n",
    "\n",
    "a=b=c=100\n",
    "\n",
    "a,b,c=99,100,101\n",
    "print(a,b,c)"
   ]
  },
  {
   "cell_type": "markdown",
   "metadata": {},
   "source": [
    "## 5. loop"
   ]
  },
  {
   "cell_type": "code",
   "execution_count": 27,
   "metadata": {},
   "outputs": [
    {
     "name": "stdout",
     "output_type": "stream",
     "text": [
      "For loop,  0  times run\n",
      "For loop,  1  times run\n",
      "For loop,  2  times run\n",
      "For loop,  3  times run\n",
      "For loop,  4  times run\n",
      "While loop  0 times run\n",
      "While loop  1 times run\n",
      "While loop  2 times run\n",
      "While loop  3 times run\n",
      "While loop  4 times run\n",
      "While loop  5 times run\n",
      "While loop  6 times run\n",
      "While loop  7 times run\n",
      "While loop  8 times run\n",
      "While loop  9 times run\n",
      "While loop  10 times run\n",
      "While loop  11 times run\n",
      "While loop  12 times run\n",
      "While loop  13 times run\n",
      "While loop  14 times run\n",
      "For loop,  0  times run\n",
      "For loop,  1  times run\n",
      "For loop,  3  times run\n",
      "For loop,  4  times run\n",
      "0\n",
      "break 1\n",
      "1\n",
      "break 2\n",
      "2\n",
      "break 3\n",
      "3\n",
      "break 4\n",
      "4\n",
      "break 5\n",
      "5\n",
      "break 6\n",
      "6\n",
      "break 7\n",
      "For loop,  0  times run\n",
      "For loop,  1  times run\n",
      "For loop,  3  times run\n",
      "For loop,  4  times run\n"
     ]
    }
   ],
   "source": [
    "#for loop\n",
    "\n",
    "for i in range(5):\n",
    "    print('For loop, ',i,' times run')\n",
    "\n",
    "#while loop\n",
    "i=0\n",
    "while(i<15): # end the loop when i=15\n",
    "    print('While loop ',i,'times run')\n",
    "    i=i+1\n",
    "\n",
    "#continue: skip the current iteration only\n",
    "\n",
    "for i in range(5):\n",
    "    if i==2:\n",
    "        continue\n",
    "    print('For loop, ',i,' times run')\n",
    "    \n",
    "    \n",
    "#break: terminates the loop containing it\n",
    "i=0\n",
    "while True:\n",
    "    print(i)\n",
    "    i+=1\n",
    "    print('break',i)\n",
    "    if i==7:\n",
    "        break\n",
    "        \n",
    "#pass: is a null operation -- when it is executed, nothing happens\n",
    "for i in range(5):\n",
    "    if i==2: \n",
    "        pass\n",
    "    ######################\n",
    "    else:\n",
    "        print('For loop, ',i,' times run')"
   ]
  },
  {
   "cell_type": "markdown",
   "metadata": {},
   "source": [
    "## 6. if"
   ]
  },
  {
   "cell_type": "code",
   "execution_count": 29,
   "metadata": {},
   "outputs": [
    {
     "name": "stdout",
     "output_type": "stream",
     "text": [
      "you are an adult!\n",
      "you are an adult!\n",
      ">10\n",
      ".edu domain\n"
     ]
    }
   ],
   "source": [
    "age=32\n",
    "\n",
    "if age>18:\n",
    "    print('you are an adult!')\n",
    "\n",
    "#if lese\n",
    "if age>18:\n",
    "    print('you are an adult!')\n",
    "else:\n",
    "    print('you are a teenage!')\n",
    "    \n",
    "#if elif\n",
    "guess = 12\n",
    "\n",
    "if guess > 20:\n",
    "    print('>20')\n",
    "elif guess > 15:\n",
    "    print('>15')\n",
    "else:\n",
    "    print('>10')\n",
    "        \n",
    "\n",
    "# ternary if-else operator\n",
    "\n",
    "websiteUrl='purdue.edu'\n",
    "print('.edu domain') if '.edu' in websiteUrl  else print('others')"
   ]
  },
  {
   "cell_type": "markdown",
   "metadata": {},
   "source": [
    "## 7. String"
   ]
  },
  {
   "cell_type": "code",
   "execution_count": 5,
   "metadata": {},
   "outputs": [
    {
     "name": "stdout",
     "output_type": "stream",
     "text": [
      "http://www.purdue.edu\n",
      "Today's news is not a good news\n",
      "len: 21\n",
      "h\n",
      "t\n",
      "t\n",
      "p\n",
      ":\n",
      "/\n",
      "/\n",
      "w\n",
      "w\n",
      "w\n",
      ".\n",
      "p\n",
      "u\n",
      "r\n",
      "d\n",
      "u\n",
      "e\n",
      ".\n",
      "e\n",
      "d\n",
      "u\n",
      "h\n",
      "www.purdue.edu\n",
      "http://www.purdue.edu\n",
      "eduhedutedutedupedu:edu/edu/eduweduweduwedu.edupeduueduredudeduuedueedu.educeduoedumedu\n",
      "http://www.purdue.com\n",
      "--------\n",
      "2\n"
     ]
    },
    {
     "data": {
      "text/plain": [
       "False"
      ]
     },
     "execution_count": 5,
     "metadata": {},
     "output_type": "execute_result"
    }
   ],
   "source": [
    "# use '' or \"\" to initiliaze a string\n",
    "url='http://www.purdue.edu'\n",
    "url=\"http://www.purdue.edu\"\n",
    "print(url)\n",
    "\n",
    "# if ' is in the content, use \\\n",
    "sentence='Today\\'s news is not a good news'\n",
    "print(sentence)\n",
    "\n",
    "\n",
    "# length of the string(how many characters)\n",
    "print('len:',len(url))\n",
    "\n",
    "#iterate each character in the string\n",
    "for item in url:\n",
    "    print(item)\n",
    "    \n",
    "# locate the character by the index \n",
    "print(url[0])\n",
    "\n",
    "# slice operation\n",
    "print(url[7:22])\n",
    "\n",
    "\n",
    "\n",
    "#concat\n",
    "url='http://www.purdue'\n",
    "domain = '.edu'\n",
    "print(url+domain)\n",
    "\n",
    "#find and replacae\n",
    "url = 'http://www.purdue.com'\n",
    "url.find('http://')\n",
    "url.find('com')\n",
    "print(url.replace('','edu'))\n",
    "print(url)\n",
    "\n",
    "print('--------')\n",
    "#count\n",
    "print(url.count('p'))\n",
    "\n",
    "\n",
    "url.upper()#upper case\n",
    "url.lower()#lower case\n",
    "\n",
    "#remove space\n",
    "url.lstrip()\n",
    "url.rstrip()\n",
    "url.strip()\n",
    "\n",
    "s='abc'\n",
    "s.isalpha() # isalpha() returns “True” if all characters in the string are alphabets, Otherwise, It returns “False”.\n",
    "s.isdigit() # The isdigit() method returns True if all characters in a string are digits. If not, it returns False."
   ]
  },
  {
   "cell_type": "markdown",
   "metadata": {},
   "source": [
    "# Lab1 Homework (16 pts)"
   ]
  },
  {
   "cell_type": "markdown",
   "metadata": {},
   "source": [
    "## 1. print all the numbers between 1 to 100(included) that could be divided by both 3 and 5"
   ]
  },
  {
   "cell_type": "code",
   "execution_count": 5,
   "metadata": {},
   "outputs": [
    {
     "name": "stdout",
     "output_type": "stream",
     "text": [
      "0\n",
      "15\n",
      "30\n",
      "45\n",
      "60\n",
      "75\n",
      "90\n"
     ]
    }
   ],
   "source": [
    "for i in range (101):\n",
    "    if i%3==0 and i%5==0:\n",
    "        print(i)"
   ]
  },
  {
   "cell_type": "markdown",
   "metadata": {},
   "source": [
    "## 2.  decide if a number is Palindrome number\n",
    "\n",
    "### Palindrome number: 64546, 812218"
   ]
  },
  {
   "cell_type": "code",
   "execution_count": 104,
   "metadata": {},
   "outputs": [
    {
     "name": "stdout",
     "output_type": "stream",
     "text": [
      "434\n",
      "te\n",
      "te\n",
      "true\n"
     ]
    }
   ],
   "source": [
    "i=int(input())\n",
    "j=str(i)\n",
    "k=0\n",
    "\n",
    "while k<len(j):\n",
    "    if j[len(j)-k-1]==j[k]:\n",
    "        k=k+1\n",
    "        \n",
    "    else:\n",
    "        print('false')\n",
    "        break\n",
    "        \n",
    "    if len(j)-k-1==0:\n",
    "        print('true')\n",
    "        break\n",
    "  \n",
    "    \n",
    "    \n",
    "\n",
    "\n",
    "\n",
    "\n"
   ]
  },
  {
   "cell_type": "markdown",
   "metadata": {},
   "source": [
    "## 3. Given a string, find all the letters that are identical to the first letter, keep the first the same and replace the rest with \"*\"."
   ]
  },
  {
   "cell_type": "code",
   "execution_count": 81,
   "metadata": {},
   "outputs": [
    {
     "name": "stdout",
     "output_type": "stream",
     "text": [
      "teeter\n",
      "tee*er\n"
     ]
    }
   ],
   "source": [
    "# example: catcat -> cat*at\n",
    "\n",
    "s = input()\n",
    "i=s[0]\n",
    "print(i + s[1:7].replace(i,'*'))"
   ]
  },
  {
   "cell_type": "markdown",
   "metadata": {},
   "source": [
    "## 4. A reboncing ball rebounces each time to a height equals to one half the height of the previous bounce. If it is dropped from a height of 100 meters. Find the height after sixth bounce."
   ]
  },
  {
   "cell_type": "code",
   "execution_count": 45,
   "metadata": {},
   "outputs": [
    {
     "name": "stdout",
     "output_type": "stream",
     "text": [
      "How many times do want the ball to bounce?\n",
      "6\n",
      "The ball has bounced 1.5625 m.\n"
     ]
    }
   ],
   "source": [
    "print('How many times do want the ball to bounce?')\n",
    "i=int(input())\n",
    "j=100*(2**(-i))\n",
    "print('The ball has bounced',j,'m.')"
   ]
  },
  {
   "cell_type": "code",
   "execution_count": null,
   "metadata": {},
   "outputs": [],
   "source": []
  },
  {
   "cell_type": "code",
   "execution_count": null,
   "metadata": {},
   "outputs": [],
   "source": []
  }
 ],
 "metadata": {
  "kernelspec": {
   "display_name": "Python 3",
   "language": "python",
   "name": "python3"
  },
  "language_info": {
   "codemirror_mode": {
    "name": "ipython",
    "version": 3
   },
   "file_extension": ".py",
   "mimetype": "text/x-python",
   "name": "python",
   "nbconvert_exporter": "python",
   "pygments_lexer": "ipython3",
   "version": "3.7.4"
  }
 },
 "nbformat": 4,
 "nbformat_minor": 2
}
